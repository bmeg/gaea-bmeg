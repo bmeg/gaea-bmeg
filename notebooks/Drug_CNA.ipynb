{
 "cells": [
  {
   "cell_type": "code",
   "execution_count": 1,
   "metadata": {
    "collapsed": true
   },
   "outputs": [],
   "source": [
    "import ophion\n",
    "import json\n",
    "import matplotlib.pyplot as plt\n",
    "import scipy.stats as stats\n",
    "import pandas\n",
    "import math"
   ]
  },
  {
   "cell_type": "code",
   "execution_count": 2,
   "metadata": {
    "collapsed": true
   },
   "outputs": [],
   "source": [
    "%matplotlib inline"
   ]
  },
  {
   "cell_type": "code",
   "execution_count": 3,
   "metadata": {
    "collapsed": true
   },
   "outputs": [],
   "source": [
    "O = ophion.Ophion(\"http://bmeg.io\")"
   ]
  },
  {
   "cell_type": "code",
   "execution_count": 4,
   "metadata": {
    "collapsed": false
   },
   "outputs": [],
   "source": [
    "drugs = list(set(O.query().has(\"gid\", \"cohort:CCLE\").outgoing(\"hasMember\").incoming(\"responseOf\").outgoing(\"responseTo\").values([\"gid\"]).execute()['result']))"
   ]
  },
  {
   "cell_type": "code",
   "execution_count": 5,
   "metadata": {
    "collapsed": true
   },
   "outputs": [],
   "source": [
    "GENE=\"CCND1\""
   ]
  },
  {
   "cell_type": "code",
   "execution_count": 6,
   "metadata": {
    "collapsed": false
   },
   "outputs": [],
   "source": [
    "res = O.query().has(\"gid\", \"gene:%s\" % (GENE)).incoming(\"calledInGene\").mark(\"a\").outgoing(\"inCNACallSet\").\\\n",
    "outgoing(\"cnaCallsFor\").mark(\"b\").incoming(\"hasMember\").has(\"gid\", \"cohort:CCLE\").select([\"a\", \"b\"]).execute()['result']\n"
   ]
  },
  {
   "cell_type": "code",
   "execution_count": 7,
   "metadata": {
    "collapsed": false
   },
   "outputs": [],
   "source": [
    "positive = set()\n",
    "negative = set()\n",
    "for row in res:\n",
    "    if 'value' in row['a']['properties']:\n",
    "        cna = math.pow(2, row['a']['properties']['value'] ) * 2.0\n",
    "        if cna >= 2.6:\n",
    "            positive.add(row['b']['properties'][\"gid\"])\n",
    "        else:\n",
    "            negative.add(row['b']['properties'][\"gid\"])"
   ]
  },
  {
   "cell_type": "code",
   "execution_count": 8,
   "metadata": {
    "collapsed": false
   },
   "outputs": [
    {
     "name": "stdout",
     "output_type": "stream",
     "text": [
      "781\n",
      "235\n"
     ]
    }
   ],
   "source": [
    "print len(negative)\n",
    "print len(positive)"
   ]
  },
  {
   "cell_type": "code",
   "execution_count": 9,
   "metadata": {
    "collapsed": false
   },
   "outputs": [],
   "source": [
    "def get_set_drug_summaries(samples, drug, responseType):\n",
    "    #data = O.query().has(\"gid\", samples).incoming(\"responseOf\").mark(\"a\").outgoing(\"responseTo\").\\\n",
    "    #has(\"gid\", drug).select(\"a\").values([\"gid\", \"responseSummary\"]).execute()['result']\n",
    "    data = O.query().has(\"gid\", drug).incoming(\"responseTo\").mark(\"a\").outgoing(\"responseOf\").has(\"gid\", samples).select(\"a\").values([\"gid\", \"responseSummary\"]).execute()['result']\n",
    "    data_map = dict(list( (data[i], json.loads(data[i+1])) for i in range(0, len(data), 2) ))\n",
    "    #print data_map\n",
    "    values = list( filter(lambda x:x[\"type\"] == responseType, i) for i in data_map.values())\n",
    "    values = filter(lambda x: len(x) > 0, values)\n",
    "    values = map(lambda x:x[0]['value'], values)\n",
    "    return values"
   ]
  },
  {
   "cell_type": "code",
   "execution_count": 10,
   "metadata": {
    "collapsed": false
   },
   "outputs": [],
   "source": [
    "p = get_set_drug_summaries(list(positive), drugs[0], \"AUC\")\n",
    "n = get_set_drug_summaries(list(negative), drugs[0], \"AUC\")"
   ]
  },
  {
   "cell_type": "code",
   "execution_count": 11,
   "metadata": {
    "collapsed": true
   },
   "outputs": [],
   "source": [
    "#drug_res_pos = O.query().has(\"gid\", list(positive)).mark(\"a\").incoming(\"responseOf\").mark(\"b\").outgoing(\"responseTo\").mark(\"c\").select([\"a\", \"b\", \"c\"]).execute()['result']"
   ]
  },
  {
   "cell_type": "code",
   "execution_count": 12,
   "metadata": {
    "collapsed": false
   },
   "outputs": [],
   "source": [
    "#drug_res_neg = O.query().has(\"gid\", list(negative)).mark(\"a\").incoming(\"responseOf\").mark(\"b\").outgoing(\"responseTo\").mark(\"c\").select([\"a\", \"b\", \"c\"]).execute()['result']"
   ]
  },
  {
   "cell_type": "code",
   "execution_count": null,
   "metadata": {
    "collapsed": false
   },
   "outputs": [
    {
     "data": {
      "text/plain": [
       "'\\nresponses = {}\\nfor d in drug_res:\\n    sample = d[\\'a\\'][\\'properties\\'][\\'gid\\']\\n    drug = d[\\'c\\'][\\'properties\\'][\\'gid\\']\\n    o = list(i[\\'value\\'] for i in d[\\'b\\'][\\'properties\\'][\\'summary\\'] if i[\\'type\\'] == \"AUC\")\\n    if len(o):\\n        if drug not in responses:\\n            responses[drug] = {}\\n        responses[drug][sample] = o[0]\\n'"
      ]
     },
     "execution_count": 13,
     "metadata": {},
     "output_type": "execute_result"
    }
   ],
   "source": [
    "\"\"\"\n",
    "responses = {}\n",
    "for d in drug_res:\n",
    "    sample = d['a']['properties']['gid']\n",
    "    drug = d['c']['properties']['gid']\n",
    "    o = list(i['value'] for i in d['b']['properties']['summary'] if i['type'] == \"AUC\")\n",
    "    if len(o):\n",
    "        if drug not in responses:\n",
    "            responses[drug] = {}\n",
    "        responses[drug][sample] = o[0]\n",
    "\"\"\""
   ]
  },
  {
   "cell_type": "code",
   "execution_count": null,
   "metadata": {
    "collapsed": false
   },
   "outputs": [
    {
     "name": "stdout",
     "output_type": "stream",
     "text": [
      "compound:JQ-1:MK-0752 (1:1 mol/mol)\n",
      "compound:A-804598\n",
      "compound:CIL55A\n",
      "compound:I-BET151\n",
      "compound:SNX-2112\n",
      "compound:NSC95397\n",
      "compound:palmostatin B\n",
      "compound:DBeQ\n",
      "compound:JW-55\n",
      "compound:tivantinib\n",
      "compound:Compound 7d-cis\n",
      "compound:importazole\n",
      "compound:pifithrin-mu\n",
      "compound:AA-COCF3\n",
      "compound:ciclosporin\n",
      "compound:BRD-K48477130\n",
      "compound:SR8278\n",
      "compound:sitagliptin\n",
      "compound:QW-BI-011\n",
      "compound:tipifarnib-P1\n",
      "compound:tipifarnib-P2\n",
      "compound:tanespimycin:bortezomib (250:1 mol/mol)\n",
      "compound:salermide\n",
      "compound:BRD-A05715709\n",
      "compound:neratinib\n",
      "compound:dinaciclib\n",
      "compound:ibrutinib\n",
      "compound:docetaxel\n",
      "compound:BRD-K19103580\n",
      "compound:BRD4132\n",
      "compound:BRD-K58730230\n",
      "compound:UNC0638:navitoclax (1:1 mol/mol)\n",
      "compound:cediranib\n",
      "compound:marinopyrrole A\n",
      "compound:necrosulfonamide\n",
      "compound:HC-067047\n",
      "compound:CD-1530\n",
      "compound:KPT185\n",
      "compound:GSK461364\n",
      "compound:BRD-K92856060\n",
      "compound:N9-isopropylolomoucine\n",
      "compound:CIL56\n",
      "compound:GDC-0879\n",
      "compound:navitoclax:sorafenib (1:1 mol/mol)\n",
      "compound:BRD-A02303741\n",
      "compound:PF-4800567 hydrochloride\n",
      "compound:tanespimycin:gemcitabine (1:1 mol/mol)\n",
      "compound:masitinib\n",
      "compound:belinostat\n",
      "compound:skepinone-L\n",
      "compound:BRD8899\n",
      "compound:BRD-K71781559\n",
      "compound:AZD4547\n",
      "compound:spautin-1\n",
      "compound:lenvatinib\n",
      "compound:BRD-K27986637\n",
      "compound:CBB-1007\n",
      "compound:olaparib\n",
      "compound:BRD-K48334597\n",
      "compound:Compound 23 citrate\n",
      "compound:avicin D\n",
      "compound:ISOX:bortezomib (250:1 mol/mol)\n",
      "compound:TGX-221\n",
      "compound:ceranib-2\n",
      "compound:nakiterpiosin\n",
      "compound:Repligen 136\n",
      "compound:vorapaxar\n",
      "compound:VER-155008\n",
      "compound:PF-750\n",
      "compound:sunitinib\n",
      "compound:imatinib\n",
      "compound:linifanib\n",
      "compound:HBX-41108\n",
      "compound:chlorambucil\n",
      "compound:tacrolimus\n",
      "compound:bexarotene\n",
      "compound:fulvestrant\n",
      "compound:CD-437\n",
      "compound:CHM-1\n",
      "compound:LY-2157299\n",
      "compound:piperlongumine\n",
      "compound:BRD-K28456706\n",
      "compound:PL-DI\n",
      "compound:tretinoin:navitoclax (4:1 mol/mol)\n",
      "compound:WZ8040\n",
      "compound:Mdivi-1\n",
      "compound:manumycin A\n",
      "compound:BRD-K33199242\n",
      "compound:NVP-ADW742\n",
      "compound:BRD-K96970199\n",
      "compound:isonicotinohydroxamic acid\n",
      "compound:ML334 diastereomer\n",
      "compound:AZD6244\n",
      "compound:CID-5951923\n",
      "compound:apicidin\n",
      "compound:BRD9876:MK-1775 (4:1 mol/mol)\n",
      "compound:BRD-K27188169:navitoclax (2:1 mol/mol)\n",
      "compound:navitoclax:MST-312 (1:1 mol/mol)\n",
      "compound:BRD-A86708339\n",
      "compound:BRD-K45681478\n",
      "compound:PLX4720\n",
      "compound:bleomycin A2\n"
     ]
    }
   ],
   "source": [
    "out = []\n",
    "for drug in drugs:\n",
    "    print drug\n",
    "    p = get_set_drug_summaries(list(positive), drug, \"AUC\")\n",
    "    n = get_set_drug_summaries(list(negative), drug, \"AUC\")\n",
    "    s = stats.ttest_ind(p, n, equal_var=False)\n",
    "    out.append( {\"drug\" : drug, \"statistic\" : s.statistic, \"pvalue\" : s.pvalue} )"
   ]
  },
  {
   "cell_type": "code",
   "execution_count": null,
   "metadata": {
    "collapsed": false
   },
   "outputs": [],
   "source": [
    "pandas.DataFrame(out).sort_values(\"statistic\")"
   ]
  },
  {
   "cell_type": "code",
   "execution_count": null,
   "metadata": {
    "collapsed": false
   },
   "outputs": [],
   "source": []
  }
 ],
 "metadata": {
  "kernelspec": {
   "display_name": "Python 2",
   "language": "python",
   "name": "python2"
  },
  "language_info": {
   "codemirror_mode": {
    "name": "ipython",
    "version": 2
   },
   "file_extension": ".py",
   "mimetype": "text/x-python",
   "name": "python",
   "nbconvert_exporter": "python",
   "pygments_lexer": "ipython2",
   "version": "2.7.12"
  }
 },
 "nbformat": 4,
 "nbformat_minor": 0
}
