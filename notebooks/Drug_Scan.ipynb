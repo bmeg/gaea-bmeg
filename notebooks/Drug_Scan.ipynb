{
 "cells": [
  {
   "cell_type": "code",
   "execution_count": 1,
   "metadata": {
    "collapsed": false,
    "deletable": true,
    "editable": true
   },
   "outputs": [],
   "source": [
    "import ophion\n",
    "import json\n",
    "import matplotlib.pyplot as plt\n",
    "import scipy.stats as stats\n",
    "import pandas\n",
    "import numpy as np\n",
    "import itertools"
   ]
  },
  {
   "cell_type": "code",
   "execution_count": 2,
   "metadata": {
    "collapsed": true,
    "deletable": true,
    "editable": true
   },
   "outputs": [],
   "source": [
    "%matplotlib inline"
   ]
  },
  {
   "cell_type": "code",
   "execution_count": 3,
   "metadata": {
    "collapsed": true,
    "deletable": true,
    "editable": true
   },
   "outputs": [],
   "source": [
    "O = ophion.Ophion(\"http://bmeg.compbio.ohsu.edu\")"
   ]
  },
  {
   "cell_type": "code",
   "execution_count": 4,
   "metadata": {
    "collapsed": false,
    "deletable": true,
    "editable": true
   },
   "outputs": [],
   "source": [
    "#get all CCLE samples\n",
    "all_samples = O.query().has(\"gid\", \"cohort:CCLE\").outgoing(\"hasSample\").values([\"gid\"]).execute()"
   ]
  },
  {
   "cell_type": "code",
   "execution_count": 5,
   "metadata": {
    "collapsed": true,
    "deletable": true,
    "editable": true
   },
   "outputs": [],
   "source": [
    "GENES = [\"CDKN2A\", \"PTEN\", \"TP53\", \"SMAD4\"]\n",
    "#GENES = [\"CDKN2A\", \"PTEN\", \"TP53\", \"SMAD4\", \"CNGB1\", \"CYP2A6\", \"LMOD1\", \"RBPJL\", \"PARP4\"]"
   ]
  },
  {
   "cell_type": "code",
   "execution_count": 6,
   "metadata": {
    "collapsed": false,
    "deletable": true,
    "editable": true
   },
   "outputs": [
    {
     "name": "stdout",
     "output_type": "stream",
     "text": [
      "CDKN2A Positive Set: 48\n",
      "CDKN2A Negative Set: 998\n",
      "PTEN Positive Set: 142\n",
      "PTEN Negative Set: 904\n",
      "TP53 Positive Set: 553\n",
      "TP53 Negative Set: 493\n",
      "SMAD4 Positive Set: 62\n",
      "SMAD4 Negative Set: 984\n"
     ]
    }
   ],
   "source": [
    "mut_samples = {}\n",
    "norm_samples = {}\n",
    "for g in GENES:\n",
    "    #get CCLE samples with mutation\n",
    "    res = O.query().has(\"gid\", \"gene:%s\" % (g)).incoming(\"variantInGene\").outgoing(\"variantInBiosample\").mark(\"a\")\\\n",
    "    .incoming(\"hasSample\").has(\"gid\", \"cohort:CCLE\").select(\"a\").values([\"gid\"]).execute()\n",
    "    \n",
    "    if len(res) > 10:\n",
    "        mut_samples[g] = list(set(res))\n",
    "\n",
    "        #get CCLE samples without mutation\n",
    "        norm_samples[g] = list(set(all_samples).difference(mut_samples[g]))\n",
    "\n",
    "        print \"%s Positive Set: %d\" % (g, len(mut_samples[g]))\n",
    "        print \"%s Negative Set: %d\" % (g, len(norm_samples[g]))"
   ]
  },
  {
   "cell_type": "code",
   "execution_count": 7,
   "metadata": {
    "collapsed": false,
    "deletable": true,
    "editable": true
   },
   "outputs": [],
   "source": [
    "#get response values for the positive set (samples with mutation)\n",
    "#and collect AUC value by drug\n",
    "pos_response = {}\n",
    "for g in GENES:\n",
    "    pos_response[g] = {}\n",
    "    for row in O.query().has(\"gid\", O.within(mut_samples[g])).outEdge(\"responseToCompound\").mark(\"a\").inVertex().mark(\"b\").select([\"a\", \"b\"]).execute():\n",
    "        for v in json.loads(row['a']['properties']['responseSummary']):\n",
    "            if v['type'] == \"AUC\":\n",
    "                compound = row['b']['gid']\n",
    "                if compound not in pos_response[g]:\n",
    "                    pos_response[g][compound] = [ v[\"value\"] ]\n",
    "                else:\n",
    "                    pos_response[g][compound].append(v[\"value\"])"
   ]
  },
  {
   "cell_type": "code",
   "execution_count": 8,
   "metadata": {
    "collapsed": false,
    "deletable": true,
    "editable": true
   },
   "outputs": [],
   "source": [
    "#get response values for the negative set (samples without mutation)\n",
    "#and collect AUC value by drug\n",
    "neg_response = {}\n",
    "for g in GENES:\n",
    "    neg_response[g] = {}\n",
    "\n",
    "    for row in O.query().has(\"gid\", O.within(norm_samples[g])).outEdge(\"responseToCompound\").mark(\"a\").inVertex().mark(\"b\").select([\"a\", \"b\"]).execute():\n",
    "        for v in json.loads(row['a']['properties']['responseSummary']):\n",
    "            if v['type'] == \"AUC\":\n",
    "                compound = row['b']['gid']\n",
    "                if compound not in neg_response[g]:\n",
    "                    neg_response[g][compound] = [ v[\"value\"] ]\n",
    "                else:\n",
    "                    neg_response[g][compound].append(v[\"value\"])"
   ]
  },
  {
   "cell_type": "code",
   "execution_count": 9,
   "metadata": {
    "collapsed": false,
    "deletable": true,
    "editable": true
   },
   "outputs": [
    {
     "name": "stdout",
     "output_type": "stream",
     "text": [
      "4\n",
      "4\n",
      "['SMAD4', 'PTEN', 'CDKN2A', 'TP53']\n"
     ]
    }
   ],
   "source": [
    "print len(pos_response)\n",
    "print len(neg_response)\n",
    "print pos_response.keys()"
   ]
  },
  {
   "cell_type": "code",
   "execution_count": 10,
   "metadata": {
    "collapsed": false,
    "deletable": true,
    "editable": true,
    "scrolled": false
   },
   "outputs": [],
   "source": [
    "#Collect t-test statistics\n",
    "drugs = set(itertools.chain.from_iterable( i.keys() for i in pos_response.values() ))\n",
    "out = []\n",
    "for drug in drugs:\n",
    "    for g in GENES:\n",
    "        row = {\"drug\" : drug, \"mutation\" : g}\n",
    "        mut_values = pos_response[g][drug]\n",
    "        norm_values = neg_response[g][drug]\n",
    "        if len(mut_values) > 5 and len(norm_values) > 5:\n",
    "            s = stats.ttest_ind(mut_values, norm_values, equal_var=False)\n",
    "            row[\"t-statistic\"] = s.statistic\n",
    "            row[\"t-pvalue\"] = s.pvalue\n",
    "            s = stats.f_oneway(mut_values, norm_values)\n",
    "            row[\"a-statistic\"] = s.statistic\n",
    "            row[\"a-pvalue\"] = s.pvalue\n",
    "            out.append(row)"
   ]
  },
  {
   "cell_type": "code",
   "execution_count": 15,
   "metadata": {
    "collapsed": false,
    "deletable": true,
    "editable": true
   },
   "outputs": [],
   "source": [
    "#print data sorted by statistical value\n",
    "df = pandas.DataFrame(out, columns=[\"drug\", \"mutation\", \"t-statistic\", \"t-pvalue\", \"a-statistic\", \"a-pvalue\"]).sort_values(\"a-pvalue\")"
   ]
  },
  {
   "cell_type": "code",
   "execution_count": 12,
   "metadata": {
    "collapsed": false,
    "deletable": true,
    "editable": true
   },
   "outputs": [
    {
     "name": "stdout",
     "output_type": "stream",
     "text": [
      "13.534497907 0.960924747106\n",
      "12.4568282282 1.70322764773\n"
     ]
    },
    {
     "data": {
      "image/png": "[encoded data removed]",
      "text/plain": [
       "<matplotlib.figure.Figure at 0x116b9a3d0>"
      ]
     },
     "metadata": {},
     "output_type": "display_data"
    }
   ],
   "source": [
    "drug = \"compound:nutlin-3\"\n",
    "gene = \"TP53\"\n",
    "_ = plt.hist(pos_response[gene][drug], bins=100, normed=True, color=\"R\")\n",
    "_ = plt.hist(neg_response[gene][drug], bins=100, normed=True, color=\"B\")\n",
    "print np.mean(pos_response[gene][drug]), np.std(pos_response[gene][drug])\n",
    "print np.mean(neg_response[gene][drug]), np.std(neg_response[gene][drug])"
   ]
  },
  {
   "cell_type": "code",
   "execution_count": 13,
   "metadata": {
    "collapsed": false,
    "deletable": true,
    "editable": true
   },
   "outputs": [
    {
     "data": {
      "text/plain": [
       "F_onewayResult(statistic=121.68103667046283, pvalue=2.3791567976155418e-26)"
      ]
     },
     "execution_count": 13,
     "metadata": {},
     "output_type": "execute_result"
    }
   ],
   "source": [
    "stats.f_oneway(pos_response[gene][drug], neg_response[gene][drug])"
   ]
  },
  {
   "cell_type": "code",
   "execution_count": 16,
   "metadata": {
    "collapsed": true,
    "deletable": true,
    "editable": true
   },
   "outputs": [],
   "source": [
    "df.to_csv(\"drug_select.list\", sep=\"\\t\")"
   ]
  },
  {
   "cell_type": "code",
   "execution_count": null,
   "metadata": {
    "collapsed": true
   },
   "outputs": [],
   "source": []
  }
 ],
 "metadata": {
  "kernelspec": {
   "display_name": "Python 2",
   "language": "python",
   "name": "python2"
  },
  "language_info": {
   "codemirror_mode": {
    "name": "ipython",
    "version": 2
   },
   "file_extension": ".py",
   "mimetype": "text/x-python",
   "name": "python",
   "nbconvert_exporter": "python",
   "pygments_lexer": "ipython2",
   "version": "2.7.13"
  }
 },
 "nbformat": 4,
 "nbformat_minor": 2
}
