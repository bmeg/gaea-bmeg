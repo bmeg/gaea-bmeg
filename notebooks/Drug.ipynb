{
 "metadata": {
  "name": "",
  "signature": "sha256:e83e592e9c7265b1dcbaa9b3b8891dd14ee4fbc91e017e96879dcd7f8ba466d7"
 },
 "nbformat": 3,
 "nbformat_minor": 0,
 "worksheets": [
  {
   "cells": [
    {
     "cell_type": "code",
     "collapsed": false,
     "input": [
      "import ophion\n",
      "import json\n",
      "import matplotlib.pyplot as plt"
     ],
     "language": "python",
     "metadata": {},
     "outputs": [],
     "prompt_number": 32
    },
    {
     "cell_type": "code",
     "collapsed": false,
     "input": [
      "%matplotlib inline"
     ],
     "language": "python",
     "metadata": {},
     "outputs": [],
     "prompt_number": 33
    },
    {
     "cell_type": "code",
     "collapsed": false,
     "input": [
      "O = ophion.Ophion(\"http://localhost:8000\")"
     ],
     "language": "python",
     "metadata": {},
     "outputs": [],
     "prompt_number": 34
    },
    {
     "cell_type": "code",
     "collapsed": false,
     "input": [
      "#get the list of drugs\n",
      "drugs = list(set(O.query().has(\"gid\", \"cohort:CCLE\").outgoing(\"hasMember\").incoming(\"responseOf\").outgoing(\"responseTo\").values([\"gid\"]).execute()['result']))\n",
      "print drugs"
     ],
     "language": "python",
     "metadata": {},
     "outputs": [
      {
       "output_type": "stream",
       "stream": "stdout",
       "text": [
        "[u'compound:L-685458', u'compound:Panobinostat', u'compound:Lapatinib', u'compound:Topotecan', u'compound:PHA-665752', u'compound:Erlotinib', u'compound:ZD-6474', u'compound:PD-0332991', u'compound:AZD0530', u'compound:LBW242', u'compound:TKI258', u'compound:TAE684', u'compound:PD-0325901', u'compound:AZD6244', u'compound:Irinotecan', u'compound:Nutlin-3', u'compound:RAF265', u'compound:Nilotinib', u'compound:17-AAG', u'compound:Paclitaxel', u'compound:PF2341066', u'compound:Sorafenib', u'compound:AEW541', u'compound:PLX4720']\n"
       ]
      }
     ],
     "prompt_number": 35
    },
    {
     "cell_type": "code",
     "collapsed": false,
     "input": [
      "DRUG='compound:AZD6244'\n",
      "GENE=\"BRAF\"\n",
      "METRIC=\"AMAX\""
     ],
     "language": "python",
     "metadata": {},
     "outputs": [],
     "prompt_number": 36
    },
    {
     "cell_type": "code",
     "collapsed": false,
     "input": [
      "mut_samples = O.query().has(\"gid\", \"gene:%s\" % (GENE)).incoming(\"affectsGene\").incoming(\"transcriptEffectOf\").outgoing(\"annotationFor\").\\\n",
      "outgoing(\"inCallSet\").outgoing(\"callsFor\").mark(\"a\").incoming(\"hasMember\").has(\"gid\", \"cohort:CCLE\").select(\"a\").values([\"gid\"]).execute()['result']"
     ],
     "language": "python",
     "metadata": {},
     "outputs": [],
     "prompt_number": 37
    },
    {
     "cell_type": "code",
     "collapsed": false,
     "input": [
      "all_samples = O.query().has(\"gid\", \"cohort:CCLE\").outgoing(\"hasMember\").mark(\"a\").incoming(\"callsFor\").select(\"a\").values([\"gid\"]).execute()['result']"
     ],
     "language": "python",
     "metadata": {},
     "outputs": [],
     "prompt_number": 38
    },
    {
     "cell_type": "code",
     "collapsed": false,
     "input": [
      "norm_samples = list(set(all_samples).difference(mut_samples))"
     ],
     "language": "python",
     "metadata": {},
     "outputs": [],
     "prompt_number": 39
    },
    {
     "cell_type": "code",
     "collapsed": false,
     "input": [
      "def get_set_drug_summaries(samples, drug, responseType):\n",
      "    data = O.query().has(\"gid\", samples).incoming(\"responseOf\").mark(\"a\").outgoing(\"responseTo\").\\\n",
      "has(\"gid\", drug).select(\"a\").values([\"gid\", \"responseSummary\"]).execute()['result']\n",
      "    data_map = dict(list( (data[i], json.loads(data[i+1])) for i in range(0, len(data), 2) ))\n",
      "    values = map(lambda x:x['value'], list( filter(lambda x:x[\"type\"] == responseType, i)[0] for i in data_map.values()))\n",
      "    return values"
     ],
     "language": "python",
     "metadata": {},
     "outputs": [],
     "prompt_number": 40
    },
    {
     "cell_type": "code",
     "collapsed": false,
     "input": [
      "mut_values = get_set_drug_summaries(mut_samples, DRUG, METRIC)\n",
      "norm_values = get_set_drug_summaries(norm_samples, DRUG, METRIC)\n",
      "plt.boxplot([mut_values, norm_values], labels=[\"Mutants\", \"Normal\"])\n",
      "plt.title(\"%s %s %s response\" % (DRUG, GENE, METRIC) )"
     ],
     "language": "python",
     "metadata": {},
     "outputs": [
      {
       "metadata": {},
       "output_type": "pyout",
       "prompt_number": 41,
       "text": [
        "<matplotlib.text.Text at 0x7f09f51fc650>"
       ]
      },
      {
       "metadata": {},
       "output_type": "display_data",
       "png": "[encoded data removed]",
       "text": [
        "<matplotlib.figure.Figure at 0x7f09f535a910>"
       ]
      }
     ],
     "prompt_number": 41
    },
    {
     "cell_type": "code",
     "collapsed": false,
     "input": [],
     "language": "python",
     "metadata": {},
     "outputs": [],
     "prompt_number": 41
    }
   ],
   "metadata": {}
  }
 ]
}