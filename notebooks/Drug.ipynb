{
 "metadata": {
  "name": "",
  "signature": "sha256:45d6a97dd2dd33c5abd58aa5f809e187219633bca1a4331fc8846566032c0f02"
 },
 "nbformat": 3,
 "nbformat_minor": 0,
 "worksheets": [
  {
   "cells": [
    {
     "cell_type": "code",
     "collapsed": false,
     "input": [
      "import ophion\n",
      "import json\n",
      "import matplotlib.pyplot as plt"
     ],
     "language": "python",
     "metadata": {},
     "outputs": [],
     "prompt_number": 14
    },
    {
     "cell_type": "code",
     "collapsed": false,
     "input": [
      "%matplotlib inline"
     ],
     "language": "python",
     "metadata": {},
     "outputs": [],
     "prompt_number": 15
    },
    {
     "cell_type": "code",
     "collapsed": false,
     "input": [
      "O = ophion.Ophion(\"http://localhost:8000\")"
     ],
     "language": "python",
     "metadata": {},
     "outputs": [],
     "prompt_number": 16
    },
    {
     "cell_type": "code",
     "collapsed": false,
     "input": [
      "GENE=\"BRAF\""
     ],
     "language": "python",
     "metadata": {},
     "outputs": [],
     "prompt_number": 17
    },
    {
     "cell_type": "code",
     "collapsed": false,
     "input": [
      "#get the list of drugs\n",
      "drugs = list(set(O.query().has(\"gid\", \"cohort:CCLE\").outgoing(\"hasMember\").incoming(\"responseOf\").outgoing(\"responseTo\").values([\"gid\"]).execute()['result']))\n",
      "print drugs"
     ],
     "language": "python",
     "metadata": {},
     "outputs": [
      {
       "output_type": "stream",
       "stream": "stdout",
       "text": [
        "[u'compound:L-685458', u'compound:Panobinostat', u'compound:Lapatinib', u'compound:Topotecan', u'compound:PHA-665752', u'compound:Erlotinib', u'compound:ZD-6474', u'compound:PD-0332991', u'compound:AZD0530', u'compound:LBW242', u'compound:TKI258', u'compound:TAE684', u'compound:PD-0325901', u'compound:AZD6244', u'compound:Irinotecan', u'compound:Nutlin-3', u'compound:RAF265', u'compound:Nilotinib', u'compound:17-AAG', u'compound:Paclitaxel', u'compound:PF2341066', u'compound:Sorafenib', u'compound:AEW541', u'compound:PLX4720']\n"
       ]
      }
     ],
     "prompt_number": 18
    },
    {
     "cell_type": "code",
     "collapsed": false,
     "input": [
      "DRUG='compound:Paclitaxel'"
     ],
     "language": "python",
     "metadata": {},
     "outputs": [],
     "prompt_number": 19
    },
    {
     "cell_type": "code",
     "collapsed": false,
     "input": [
      "mut_samples = O.query().has(\"gid\", \"gene:%s\" % (GENE)).incoming(\"affectsGene\").incoming(\"transcriptEffectOf\").outgoing(\"annotationFor\").\\\n",
      "outgoing(\"inCallSet\").outgoing(\"callsFor\").mark(\"a\").incoming(\"hasMember\").has(\"gid\", \"cohort:CCLE\").select(\"a\").values([\"gid\"]).execute()['result']"
     ],
     "language": "python",
     "metadata": {},
     "outputs": [],
     "prompt_number": 20
    },
    {
     "cell_type": "code",
     "collapsed": false,
     "input": [
      "all_samples = O.query().has(\"gid\", \"cohort:CCLE\").outgoing(\"hasMember\").mark(\"a\").incoming(\"callsFor\").select(\"a\").values([\"gid\"]).execute()['result']"
     ],
     "language": "python",
     "metadata": {},
     "outputs": [],
     "prompt_number": 21
    },
    {
     "cell_type": "code",
     "collapsed": false,
     "input": [
      "norm_samples = list(set(all_samples).difference(mut_samples))"
     ],
     "language": "python",
     "metadata": {},
     "outputs": [],
     "prompt_number": 22
    },
    {
     "cell_type": "code",
     "collapsed": false,
     "input": [
      "def get_set_drug_summaries(samples, drug, responseType):\n",
      "    data = O.query().has(\"gid\", samples).incoming(\"responseOf\").mark(\"a\").outgoing(\"responseTo\").\\\n",
      "has(\"gid\", drug).select(\"a\").values([\"gid\", \"responseSummary\"]).execute()['result']\n",
      "    data_map = dict(list( (data[i], json.loads(data[i+1])) for i in range(0, len(data), 2) ))\n",
      "    values = map(lambda x:x['value'], list( filter(lambda x:x[\"type\"] == responseType, i)[0] for i in data_map.values()))\n",
      "    return values"
     ],
     "language": "python",
     "metadata": {},
     "outputs": [],
     "prompt_number": 23
    },
    {
     "cell_type": "code",
     "collapsed": false,
     "input": [
      "mut_values = get_set_drug_summaries(mut_samples, DRUG, \"AMAX\")\n",
      "norm_values = get_set_drug_summaries(norm_samples, DRUG, \"AMAX\")\n",
      "plt.boxplot([mut_values, norm_values])"
     ],
     "language": "python",
     "metadata": {},
     "outputs": [
      {
       "metadata": {},
       "output_type": "pyout",
       "prompt_number": 24,
       "text": [
        "{'boxes': [<matplotlib.lines.Line2D at 0x7fb0a45d7d10>,\n",
        "  <matplotlib.lines.Line2D at 0x7fb0a450b550>],\n",
        " 'caps': [<matplotlib.lines.Line2D at 0x7fb0a45d1c50>,\n",
        "  <matplotlib.lines.Line2D at 0x7fb0a45202d0>,\n",
        "  <matplotlib.lines.Line2D at 0x7fb0a4517890>,\n",
        "  <matplotlib.lines.Line2D at 0x7fb0a4517ed0>],\n",
        " 'fliers': [<matplotlib.lines.Line2D at 0x7fb0a4520f50>,\n",
        "  <matplotlib.lines.Line2D at 0x7fb0a4528b90>],\n",
        " 'means': [],\n",
        " 'medians': [<matplotlib.lines.Line2D at 0x7fb0a4520910>,\n",
        "  <matplotlib.lines.Line2D at 0x7fb0a4528550>],\n",
        " 'whiskers': [<matplotlib.lines.Line2D at 0x7fb0a45d7f10>,\n",
        "  <matplotlib.lines.Line2D at 0x7fb0a45d1610>,\n",
        "  <matplotlib.lines.Line2D at 0x7fb0a450bbd0>,\n",
        "  <matplotlib.lines.Line2D at 0x7fb0a4517250>]}"
       ]
      },
      {
       "metadata": {},
       "output_type": "display_data",
       "png": "[encoded data removed]",
       "text": [
        "<matplotlib.figure.Figure at 0x7fb0a44b0510>"
       ]
      }
     ],
     "prompt_number": 24
    },
    {
     "cell_type": "code",
     "collapsed": false,
     "input": [],
     "language": "python",
     "metadata": {},
     "outputs": [],
     "prompt_number": 24
    }
   ],
   "metadata": {}
  }
 ]
}